{
 "cells": [
  {
   "attachments": {},
   "cell_type": "markdown",
   "metadata": {},
   "source": [
    "## CSV Files"
   ]
  },
  {
   "cell_type": "code",
   "execution_count": 2,
   "metadata": {},
   "outputs": [],
   "source": [
    "##################### THIS CODE WAS USED TO CREATE A NEW FILE, DOES NOT NEED TO BE USED AGAIN ########################\n",
    "# Allow User Input of Name\n",
    "name = input(\"Please provide a name: \")\n",
    "\n",
    "# Open A New File and Append the User's Name\n",
    "with open(\"Names.csv\", \"a\") as file:\n",
    "    file.write(f\"{name}\\n\")"
   ]
  },
  {
   "cell_type": "code",
   "execution_count": 7,
   "metadata": {},
   "outputs": [
    {
     "name": "stdout",
     "output_type": "stream",
     "text": [
      "Gabriel wants to do Neurosurgery\n",
      "Colleen wants to do Neurology\n",
      "Nihar wants to do Orthopedic Surgery\n",
      "Sam wants to do Orthopedic Surgery\n",
      "Sarah wants to do Obstetrics and Gynecology\n",
      "Varsha wants to do Pediatrics\n",
      "Ashley wants to do General Surgery\n",
      "Nithya wants to do General Surgery\n",
      "Whitney wants to do Unknown\n"
     ]
    }
   ],
   "source": [
    "# Import CSV Text File and Split Entries\n",
    "with open(\"Students.csv\") as file:\n",
    "    for line in file:\n",
    "       # Unpack the Items in Each Row into Separate Variables\n",
    "       name, specialty = line.rstrip().split(sep = \",\")\n",
    "       print(f\"{name} wants to do {specialty}\")"
   ]
  },
  {
   "cell_type": "code",
   "execution_count": 15,
   "metadata": {},
   "outputs": [
    {
     "name": "stdout",
     "output_type": "stream",
     "text": [
      "Nithya is From Austin and Wants to Go Into General Surgery\n",
      "Whitney is From Chicago and Wants to Go Into Unknown\n",
      "Nihar is From Dallas and Wants to Go Into Orthopedic Surgery\n",
      "Sarah is From Dallas and Wants to Go Into Obstetrics and Gynecology\n",
      "Varsha is From Dallas and Wants to Go Into Pediatrics\n",
      "Ashley is From Dallas and Wants to Go Into General Surgery\n",
      "Colleen is From Lansdale and Wants to Go Into Neurology\n",
      "Sam is From Missouri City and Wants to Go Into Orthopedic Surgery\n",
      "Gabriel is From Pearland and Wants to Go Into Neurosurgery\n"
     ]
    }
   ],
   "source": [
    "# Initiliaze List to Hold Individual Dictionaries (Student and Their Info)\n",
    "students = []\n",
    "\n",
    "# Create Dictionary for Each Entry in CSV\n",
    "with open(\"Students.csv\") as file:\n",
    "    for line in file:\n",
    "        # Unpack the CVS File\n",
    "        name, specialty, hometown = line.rstrip().split(sep = \",\")\n",
    "        # Create a Dictionary to Store Values\n",
    "        student = {\"Name\": name, \"Specialty\": specialty, \"Hometown\": hometown}\n",
    "        # Append Each Dictionary (Student) to the Initialized List \n",
    "        students.append(student)\n",
    "\n",
    "\n",
    "# Make Functions to Create Keys for Searching Dictionary\n",
    "def get_name(student):\n",
    "    return student[\"Name\"]\n",
    "\n",
    "def get_specialty(student):\n",
    "    return student[\"Specialty\"]\n",
    "\n",
    "def get_hometown(student):\n",
    "    return student[\"Hometown\"]\n",
    "\n",
    "\n",
    "# Print Out Results Using New Dictionary and New Keys\n",
    "for student in sorted(students, key = get_hometown):\n",
    "    print(f\"{student['Name']} is From {student['Hometown']} and Wants to Go Into {student['Specialty']}\")"
   ]
  },
  {
   "cell_type": "code",
   "execution_count": 17,
   "metadata": {},
   "outputs": [
    {
     "name": "stdout",
     "output_type": "stream",
     "text": [
      "Ashley is from Dallas and wants to practice General Surgery\n",
      "Colleen is from Lansdale and wants to practice Neurology\n",
      "Gabriel is from Pearland and wants to practice Neurosurgery\n",
      "Nihar is from Dallas and wants to practice Orthopedic Surgery\n",
      "Nithya is from Austin and wants to practice General Surgery\n",
      "Sam is from Missouri City and wants to practice Orthopedic Surgery\n",
      "Sarah is from Dallas and wants to practice Obstetrics and Gynecology\n",
      "Varsha is from Dallas and wants to practice Pediatrics\n",
      "Whitney is from Chicago and wants to practice Unknown\n"
     ]
    }
   ],
   "source": [
    "########### An Easier Way to Deal with CSV Files Than Above ##############\n",
    "\n",
    "# Import CSV Module\n",
    "import csv\n",
    "\n",
    "# Initialize an Empty List to Hold Dictionaries (Students and their Info)\n",
    "students = []\n",
    "\n",
    "# Open CSV File Using Module\n",
    "with open(\"Students.csv\") as file:\n",
    "    reader = csv.reader(file)\n",
    "    # Iterate Over 'Reader' (NOT 'File' Anymore) and Create Variables\n",
    "    for name, specialty, hometown in reader:\n",
    "        # Append Each Entry Student (As a Dictionary) to the Empty List\n",
    "        students.append({\"Name\": name, \"Specialty\": specialty, \"Hometown\":hometown})\n",
    "\n",
    "# Make Functions to Create Easy Keys to Search List of Dictionaries\n",
    "def get_name(student):\n",
    "    return student[\"Name\"]\n",
    "\n",
    "def get_specialty(student):\n",
    "    return student[\"Specialty\"]\n",
    "\n",
    "def get_hometown(student):\n",
    "    return student[\"Hometown\"]\n",
    "\n",
    "\n",
    "# Print Results \n",
    "for student in sorted(students, key = get_name):\n",
    "    print(f\"{student['Name']} is from {student['Hometown']} and wants to practice {student['Specialty']}\")\n",
    "    "
   ]
  },
  {
   "cell_type": "code",
   "execution_count": 25,
   "metadata": {},
   "outputs": [
    {
     "name": "stdout",
     "output_type": "stream",
     "text": [
      "Ashley is from Dallas and wants to practice General Surgery\n",
      "Colleen is from Lansdale and wants to practice Neurology\n",
      "Gabriel is from Pearland and wants to practice Neurosurgery\n",
      "Nihar is from Dallas and wants to practice Orthopedic Surgery\n",
      "Nithya is from Austin and wants to practice General Surgery\n",
      "Sam is from Missouri City and wants to practice Orthopedic Surgery\n",
      "Sarah is from Dallas and wants to practice Obstetrics and Gynecology\n",
      "Varsha is from Dallas and wants to practice Pediatrics\n",
      "Whitney is from Chicago and wants to practice Unknown\n"
     ]
    }
   ],
   "source": [
    "########### An EVEN EASIER Way to Deal with CSV Files Than Above ##############\n",
    "########### This Requires File to Have a Header Row ##############\n",
    "\n",
    "# Import CSV Module\n",
    "import csv\n",
    "\n",
    "# Initialize an Empty List to Hold Dictionaries (Students and their Info)\n",
    "students = []\n",
    "\n",
    "# Open CSV File Using Module and DictReader\n",
    "with open(\"Students_withHeaders.csv\") as file:\n",
    "    reader = csv.DictReader(file)\n",
    "    # Iterate Over 'Reader' (NOT 'File' Anymore) but Do NOT Create Variables\n",
    "    for row in reader:\n",
    "        # Append Each Entry Student (As a Dictionary) to the Empty List\n",
    "        students.append(row)\n",
    "\n",
    "# Make Functions to Create Easy Keys to Search List of Dictionaries\n",
    "def get_name(student):\n",
    "    return student[\"Name\"]\n",
    "\n",
    "def get_specialty(student):\n",
    "    return student[\"Specialty\"]\n",
    "\n",
    "def get_hometown(student):\n",
    "    return student[\"Hometown\"]\n",
    "\n",
    "# Print Results \n",
    "for student in sorted(students, key = get_name):\n",
    "    print(f\"{student['Name']} is from {student['Hometown']} and wants to practice {student['Specialty']}\")\n",
    "\n"
   ]
  },
  {
   "cell_type": "code",
   "execution_count": 6,
   "metadata": {},
   "outputs": [],
   "source": [
    "########### How to Write Your Own CSV From Code ##############\n",
    "\n",
    "import csv\n",
    "\n",
    "# Initialize a Variable for While Loop\n",
    "again = \"Y\"\n",
    "\n",
    "# User Input\n",
    "while again == \"Y\":\n",
    "    name = input(\"Please provide the student's name: \")\n",
    "    specialty = input(\"Please provide the student's specialty of interest: \")\n",
    "    hometown = input(\"Please provide the student's home: \")\n",
    "\n",
    "    # Write into a CVS File with Only Headers\n",
    "    with open(\"Students_CreatedFromCode.csv\", \"a\") as file:\n",
    "        writer = csv.writer(file)\n",
    "        writer.writerow([name, specialty, hometown])\n",
    "\n",
    "    # Ask to Continue or Terminate\n",
    "    again = input(\"Do you want to add another student? [Y/N]: \")\n",
    "\n"
   ]
  },
  {
   "cell_type": "code",
   "execution_count": 13,
   "metadata": {},
   "outputs": [],
   "source": [
    "###########  Write Your Own CSV From Code BETTER THAN ABOVE ##############\n",
    "\n",
    "import csv\n",
    "\n",
    "# Initialize a Variable for While Loop\n",
    "again = \"Y\"\n",
    "\n",
    "# User Input\n",
    "while again == \"Y\":\n",
    "    name = input(\"Please provide the student's name: \")\n",
    "    specialty = input(\"Please provide the student's specialty of interest: \")\n",
    "    hometown = input(\"Please provide the student's home: \")\n",
    "\n",
    "    # Write into a CVS File with Only Headers\n",
    "    with open(\"Students_CreatedFromCode.csv\", \"a\") as file:\n",
    "        # Use DictWriter and Input Column Names from File as FieldNames\n",
    "        writer = csv.DictWriter(file, fieldnames= [\"Name\", \"Specialty\", \"Hometown\"])\n",
    "        # Write a Dictionary Entry rather List Entry (Value pair are from User Input variables)\n",
    "        writer.writerow({\"Name\": name, \"Specialty\": specialty, \"Hometown\": hometown})\n",
    "\n",
    "    # Ask to Continue or Terminate\n",
    "    again = input(\"Do you want to add another student? [Y/N]: \")"
   ]
  },
  {
   "attachments": {},
   "cell_type": "markdown",
   "metadata": {},
   "source": [
    "## Regular Expressions"
   ]
  },
  {
   "attachments": {},
   "cell_type": "markdown",
   "metadata": {},
   "source": [
    "##### \".\" means \"any character except for a new line\"\n",
    "##### \"*\" means \"0 or more repetitions of a character\"\n",
    "##### \"+\" means \"1 or more repetitions of a character\"\n",
    "##### \"..*\" is the same as \".+\" and they both mean \"1 or more characters need to be present\"\n",
    "##### \"backslash.\" means \".\" (a literal dot in regular expression patterns)\n",
    "##### \"^\" means \"matches the start of the string\"\n",
    "##### \"$\" means \"matches the end of the string\""
   ]
  },
  {
   "cell_type": "code",
   "execution_count": 2,
   "metadata": {},
   "outputs": [
    {
     "name": "stdout",
     "output_type": "stream",
     "text": [
      "Email Seems Valid\n"
     ]
    }
   ],
   "source": [
    "## Email Validation Using Regular Expressions ## \n",
    "\n",
    "# User Input for Email w/ White Space Stripped from Left and Right \n",
    "email = input(\"Please provide your email: \").strip()\n",
    "\n",
    "# Conditionals to Check Validity\n",
    "if \"@\" in email and \".\" in email:\n",
    "    print(\"Email Seems Valid\")\n",
    "else:\n",
    "    print(\"Email Seems Invalid\")"
   ]
  },
  {
   "cell_type": "code",
   "execution_count": 4,
   "metadata": {},
   "outputs": [
    {
     "name": "stdout",
     "output_type": "stream",
     "text": [
      "Email Seems Valid\n"
     ]
    }
   ],
   "source": [
    "## Email Validation Using Regular Expressions (Part 2) ## \n",
    "\n",
    "# User Input for Email w/ White Space Stripped from Left and Right \n",
    "email = input(\"Please provide your email: \").strip()\n",
    "\n",
    "# Split Email into Username and Domain First\n",
    "username, domain = email.split(\"@\")\n",
    "\n",
    "# Conditionals to Check Presence of Username\n",
    "if username and domain.endswith(\".edu\"):\n",
    "    print(\"Email Seems Valid\")\n",
    "else:\n",
    "    print(\"Email Seems Invalid\")\n"
   ]
  },
  {
   "cell_type": "code",
   "execution_count": 7,
   "metadata": {},
   "outputs": [
    {
     "name": "stdout",
     "output_type": "stream",
     "text": [
      "Email Seems Valid\n"
     ]
    }
   ],
   "source": [
    "## Email Validation Using Regular Expressions (Part 3) ## \n",
    "\n",
    "import re\n",
    "\n",
    "# User Input for Email w/ White Space Stripped from Left and Right \n",
    "email = input(\"Please provide your email: \").strip()\n",
    "\n",
    "# Use Regular Expressions to Validate Email\n",
    "if re.search(\".+@.+\", email):\n",
    "    print(\"Email Seems Valid\")\n",
    "else:\n",
    "    print(\"Email Seems Invalid\")"
   ]
  },
  {
   "cell_type": "code",
   "execution_count": 6,
   "metadata": {},
   "outputs": [
    {
     "name": "stdout",
     "output_type": "stream",
     "text": [
      "Email Seems Invalid\n"
     ]
    }
   ],
   "source": [
    "## Email Validation Using Regular Expressions (Part 4) ## \n",
    "\n",
    "import re\n",
    "\n",
    "# User Input for Email w/ White Space Stripped from Left and Right \n",
    "email = input(\"Please provide your email: \").strip()\n",
    "\n",
    "# Use Regular Expressions to Validate Email (r means 'raw string', like in formatted string)\n",
    "if re.search(r\".+@.+\\.edu\", email):\n",
    "    print(\"Email Seems Valid\")\n",
    "else:\n",
    "    print(\"Email Seems Invalid\")"
   ]
  },
  {
   "attachments": {},
   "cell_type": "markdown",
   "metadata": {},
   "source": [
    "##### \"[^@]+\" means \"Any character except for @, 1 or more times\""
   ]
  },
  {
   "cell_type": "code",
   "execution_count": 8,
   "metadata": {},
   "outputs": [
    {
     "name": "stdout",
     "output_type": "stream",
     "text": [
      "Email Seems Valid\n"
     ]
    }
   ],
   "source": [
    "## Email Validation Using Regular Expressions (Part 5) ## \n",
    "\n",
    "import re\n",
    "\n",
    "# User Input for Email w/ White Space Stripped from Left and Right \n",
    "email = input(\"Please provide your email: \").strip()\n",
    "\n",
    "# Use Regular Expressions to Validate Email (r means 'raw string', like in formatted string)\n",
    "# The ^....$ Marks the Start and End of the String\n",
    "if re.search(r\"^[a-zA-Z0-9_]+@[a-zA-Z0-9_]+\\.edu$\", email):\n",
    "    print(\"Email Seems Valid\")\n",
    "else:\n",
    "    print(\"Email Seems Invalid\")"
   ]
  },
  {
   "attachments": {},
   "cell_type": "markdown",
   "metadata": {},
   "source": [
    "##### \"\\w\" means the same as \"[a-zA-z0-9_]\""
   ]
  },
  {
   "cell_type": "code",
   "execution_count": 4,
   "metadata": {},
   "outputs": [
    {
     "name": "stdout",
     "output_type": "stream",
     "text": [
      "Email Seems Invalid\n"
     ]
    }
   ],
   "source": [
    "## Email Validation Using Regular Expressions (Part 5) ## \n",
    "\n",
    "import re\n",
    "\n",
    "# User Input for Email w/ White Space Stripped from Left and Right \n",
    "email = input(\"Please provide your email: \").strip()\n",
    "\n",
    "# Use Regular Expressions to Validate Email (r means 'raw string', like in formatted string)\n",
    "# The ^....$ Marks the Start and End of the String\n",
    "if re.search(r\"^[^@]+@bcm\\.edu$\", email):\n",
    "    print(\"Email Seems Valid\")\n",
    "else:\n",
    "    print(\"Email Seems Invalid\")"
   ]
  },
  {
   "cell_type": "code",
   "execution_count": 2,
   "metadata": {},
   "outputs": [
    {
     "name": "stdout",
     "output_type": "stream",
     "text": [
      "Hello, Gabriel Reyes\n"
     ]
    }
   ],
   "source": [
    "## Data Format Standardization ## \n",
    "import re\n",
    "\n",
    "# User Input for Name\n",
    "name = input(\"What is your name? \").strip()\n",
    "\n",
    "# If User's Name is Flipped, Correct It \n",
    "matches = re.search(r\"^(.+), (.+)$\", name)\n",
    "if matches:\n",
    "    last, first = matches.groups()\n",
    "    name = f\"{first} {last}\"\n",
    "print(f\"Hello, {name}\")"
   ]
  },
  {
   "cell_type": "code",
   "execution_count": 4,
   "metadata": {},
   "outputs": [
    {
     "name": "stdout",
     "output_type": "stream",
     "text": [
      "Hello, Gabriel Reyes\n"
     ]
    }
   ],
   "source": [
    "## Data Format Standardization (Part 2) ## \n",
    "import re\n",
    "\n",
    "# User Input for Name\n",
    "name = input(\"What is your name? \").strip()\n",
    "\n",
    "# If User's Name is Flipped, Correct It \n",
    "matches = re.search(r\"^(.+), (.+)$\", name)\n",
    "if matches:\n",
    "    name = matches.group(2) + \" \" + matches.group(1)\n",
    "print(f\"Hello, {name}\")"
   ]
  },
  {
   "attachments": {},
   "cell_type": "markdown",
   "metadata": {},
   "source": [
    "# Object-Oriented Programming"
   ]
  },
  {
   "cell_type": "code",
   "execution_count": 4,
   "metadata": {},
   "outputs": [
    {
     "name": "stdout",
     "output_type": "stream",
     "text": [
      "Colleen is interested in Neuro\n"
     ]
    }
   ],
   "source": [
    "########### Object-Oriented Programming (Part 1) #########\n",
    "\n",
    "# Create the Class \"Student\"\n",
    "class Student:\n",
    "  def __init__(self):\n",
    "     self.name = \"\"\n",
    "     self.specialty = \"\"\n",
    "\n",
    "# Create a Student Object from the Student Class\n",
    "def get_student():\n",
    "    student = Student()\n",
    "    student.name = input(\"What is your name?: \") \n",
    "    student.specialty = input(\"What specialty are you interested in?: \") \n",
    "    return student\n",
    "\n",
    "# Run Code \n",
    "def main():\n",
    "    student = get_student()\n",
    "    print(f\"{student.name} is interested in {student.specialty}\") \n",
    "\n",
    "\n",
    "main()"
   ]
  },
  {
   "cell_type": "code",
   "execution_count": null,
   "metadata": {},
   "outputs": [],
   "source": [
    "########### Object-Oriented Programming (Part 2) #########\n",
    "\n",
    "# Create the Class \"Student\" (a Class is a Custom Data Type)\n",
    "class Student:\n",
    "  \n",
    "  # \"__\" is known as \"Dunder\"; it is a Method\n",
    "  def __init__(self, name, specialty):\n",
    "     \n",
    "     # Add \"Instance Variables\" to Objects\n",
    "     self.name = name\n",
    "     self.specialty = specialty\n",
    "\n",
    "# Create a Student Object from the Student Class\n",
    "def get_student():\n",
    "    name = input(\"What is your name?: \") \n",
    "    specialty = input(\"What specialty are you interested in?: \")\n",
    "\n",
    "    # Constructor Code: Constructs and Object from a Class\n",
    "    return Student(name, specialty)\n",
    "    \n",
    "# Run Code \n",
    "def main():\n",
    "    student = get_student()\n",
    "    print(f\"{student.name} is interested in {student.specialty}\") \n",
    "\n",
    "\n",
    "main()"
   ]
  },
  {
   "cell_type": "code",
   "execution_count": 14,
   "metadata": {},
   "outputs": [
    {
     "name": "stdout",
     "output_type": "stream",
     "text": [
      "Gabriel is interested in Neurosurgery\n"
     ]
    }
   ],
   "source": [
    "########### Object-Oriented Programming (Part 3) #########\n",
    "\n",
    "# Create the Class \"Student\" (a Class is a Custom Data Type)\n",
    "class Student:\n",
    "  def __init__(self, name, specialty):\n",
    "     # If No Name is Provided, Alert User\n",
    "     if name == \"\":\n",
    "        raise ValueError(\"Missing Student Name\")\n",
    "     # Specialty Provided MUST Be In Preselected Options\n",
    "     if specialty not in [\"Neurosurgery\", \"Neurology\", \"Orthopedic Surgery\", \"Pediatrics\"]:\n",
    "        raise ValueError(\"Provide a Specialty That Is Not Poopoo\")\n",
    "     self.name = name\n",
    "     self.specialty = specialty\n",
    "\n",
    "def get_student():\n",
    "    name = input(\"What is your name?: \") \n",
    "    specialty = input(\"What specialty are you interested in?: \")\n",
    "    return Student(name, specialty)\n",
    "    \n",
    "    \n",
    "def main():\n",
    "    student = get_student()\n",
    "    print(f\"{student.name} is interested in {student.specialty}\") \n",
    "\n",
    "\n",
    "main()"
   ]
  },
  {
   "cell_type": "code",
   "execution_count": 17,
   "metadata": {},
   "outputs": [
    {
     "name": "stdout",
     "output_type": "stream",
     "text": [
      "Gabriel is interested in Neurosurgery\n"
     ]
    }
   ],
   "source": [
    "########### Object-Oriented Programming (Part 4) #########\n",
    "\n",
    "# Create the Class \"Student\" (a Class is a Custom Data Type)\n",
    "class Student:\n",
    "    def __init__(self, name, specialty):\n",
    "        # If No Name is Provided, Alert User\n",
    "        if name == \"\":\n",
    "            raise ValueError(\"Missing Student Name\")\n",
    "        # Specialty Provided MUST Be In Preselected Options\n",
    "        if specialty not in [\"Neurosurgery\", \"Neurology\", \"Orthopedic Surgery\", \"Pediatrics\"]:\n",
    "            raise ValueError(\"Provide a Specialty That Is Not Poopoo\")\n",
    "        self.name = name\n",
    "        self.specialty = specialty\n",
    "\n",
    "    def __str__(self):\n",
    "        return f\"{self.name} is interested in {self.specialty}\"\n",
    "\n",
    "def get_student():\n",
    "    name = input(\"What is your name?: \") \n",
    "    specialty = input(\"What specialty are you interested in?: \")\n",
    "    return Student(name, specialty)\n",
    "    \n",
    "    \n",
    "def main():\n",
    "    student = get_student()\n",
    "    print(student)\n",
    "\n",
    "\n",
    "main()\n",
    "\n"
   ]
  },
  {
   "cell_type": "code",
   "execution_count": 20,
   "metadata": {},
   "outputs": [
    {
     "ename": "SyntaxError",
     "evalue": "invalid syntax (279374753.py, line 20)",
     "output_type": "error",
     "traceback": [
      "\u001b[0;36m  File \u001b[0;32m\"/var/folders/fd/vjr9rp01679d2ms89dxth4z00000gn/T/ipykernel_26218/279374753.py\"\u001b[0;36m, line \u001b[0;32m20\u001b[0m\n\u001b[0;31m    match self.relationship:\u001b[0m\n\u001b[0m          ^\u001b[0m\n\u001b[0;31mSyntaxError\u001b[0m\u001b[0;31m:\u001b[0m invalid syntax\n"
     ]
    }
   ],
   "source": [
    "########### Object-Oriented Programming (Part 5) #########\n",
    "\n",
    "# Create the Class \"Student\" (a Class is a Custom Data Type)\n",
    "class Student:\n",
    "    def __init__(self, name, specialty, relationship):\n",
    "        # If No Name is Provided, Alert User\n",
    "        if name == \"\":\n",
    "            raise ValueError(\"Missing Student Name\")\n",
    "        # Specialty Provided MUST Be In Preselected Options\n",
    "        if specialty not in [\"Neurosurgery\", \"Neurology\", \"Orthopedic Surgery\", \"Pediatrics\"]:\n",
    "            raise ValueError(\"Provide a Specialty That Is Not Poopoo\")\n",
    "        self.name = name\n",
    "        self.specialty = specialty\n",
    "        self.relationship = relationship\n",
    "\n",
    "    def __str__(self):\n",
    "        return f\"{self.name} is interested in {self.specialty} and is from {self.relationship}\"\n",
    "    \n",
    "    def signficantOther(self):\n",
    "        match self.relationship:\n",
    "            case \"Single\":\n",
    "                return \"Not in a Current Relationship\"\n",
    "            case \"Dating\":\n",
    "                return \"In a Current Relationship\"\n",
    "            case \"Piping\":\n",
    "                return \"Needs Jesus in Their Life\"\n",
    "\n",
    "\n",
    "def get_student():\n",
    "    name = input(\"What is your name?: \") \n",
    "    specialty = input(\"What specialty are you interested in?: \")\n",
    "    hometown = input(\"Where are you from?: \")\n",
    "    return Student(name, specialty, hometown)\n",
    "    \n",
    "    \n",
    "def main():\n",
    "    student = get_student()\n",
    "    print(\"Is this Student Lonely, Chilling, or Sinning?\")\n",
    "    print(student.signficantOther())\n",
    "\n",
    "\n",
    "main()\n"
   ]
  },
  {
   "attachments": {},
   "cell_type": "markdown",
   "metadata": {},
   "source": [
    "### If only 1 Object from a Class should exist, delete the \"Initialization\" function and Create a Class Method Instead\n",
    "\n",
    "### If Multiple Objects from a Class should exist, use the Dunder (\"__Init__\") function with \"self\"\n",
    "\n",
    "### Class methods are called WITHOUT creating a Class Object first (which is why you don't need the parentheses after the class when coding it)"
   ]
  },
  {
   "cell_type": "code",
   "execution_count": 15,
   "metadata": {},
   "outputs": [
    {
     "data": {
      "text/plain": [
       "'Gabriel belongs to Hufflepuff!!'"
      ]
     },
     "execution_count": 15,
     "metadata": {},
     "output_type": "execute_result"
    }
   ],
   "source": [
    "########### Object-Oriented Programming (Part 6) #########\n",
    "import random\n",
    "\n",
    "# Create a Class\n",
    "class Hat:\n",
    "\n",
    "    # Create an Instance and Instance Methods\n",
    "    def __init__(self):\n",
    "        self.houses = [\"Hufflepuff\", \"Gryffindor\", \"Ravenclaw\", \"Slytherin\"]\n",
    "    \n",
    "    # Create Sorting Function\n",
    "    def sort(self, name):\n",
    "        house = random.choice(self.houses)\n",
    "        return f\"{name} belongs to {house}!!\"\n",
    "\n",
    "# Create Program Code\n",
    "name = input(\"Who is wearing the hat?: \")\n",
    "Hat().sort(name)"
   ]
  },
  {
   "cell_type": "code",
   "execution_count": 13,
   "metadata": {},
   "outputs": [
    {
     "data": {
      "text/plain": [
       "'Gabriel belongs to Hufflepuff!!'"
      ]
     },
     "execution_count": 13,
     "metadata": {},
     "output_type": "execute_result"
    }
   ],
   "source": [
    "########### Object-Oriented Programming (Part 7) #########\n",
    "import random\n",
    "\n",
    "# Create a Class\n",
    "class Hat:\n",
    "    houses = [\"Hufflepuff\", \"Gryffindor\", \"Ravenclaw\", \"Slytherin\"]\n",
    "\n",
    "    # Create a Class Method for Sorting\n",
    "    @classmethod\n",
    "    def sort(cls, name):\n",
    "        house = random.choice(cls.houses)\n",
    "        return f\"{name} belongs to {house}!!\"\n",
    "\n",
    "# Create Program Code (No need for () After Class is Called)\n",
    "name = input(\"Who is wearing the hat?: \")\n",
    "Hat.sort(name)"
   ]
  },
  {
   "cell_type": "code",
   "execution_count": 9,
   "metadata": {},
   "outputs": [
    {
     "name": "stdout",
     "output_type": "stream",
     "text": [
      "Gabriel Belongs to Hufflepuff!!\n"
     ]
    }
   ],
   "source": [
    "########### Object-Oriented Programming (Part 8) #########\n",
    "\n",
    "# Create the Class\n",
    "class Student:\n",
    "    # Dunder Init to Allow for Multiple Student Creations\n",
    "    def __init__(self, name, house):\n",
    "        self.name = name\n",
    "        self.house = house\n",
    "    \n",
    "    # Create a Class Method for \"get_student()\"\n",
    "    @classmethod\n",
    "    def get(cls):\n",
    "        name = input(\"Please provide a student's name: \")\n",
    "        house = input(\"Please provide that student's house: \")\n",
    "        return cls(name, house)\n",
    "    \n",
    "    # Create String Function to Allow Printing\n",
    "    def __str__(self):\n",
    "        return f\"{self.name} Belongs to {self.house}!!\"\n",
    "    \n",
    "\n",
    "\n",
    "###### \n",
    "\n",
    "student1 = Student.get()\n",
    "print(student1)\n",
    "\n"
   ]
  },
  {
   "attachments": {},
   "cell_type": "markdown",
   "metadata": {},
   "source": [
    "## Examples of Inheritance Between Multiple Classes (Objects)"
   ]
  },
  {
   "cell_type": "code",
   "execution_count": 16,
   "metadata": {},
   "outputs": [],
   "source": [
    "## Create Parent (Super) Class \n",
    "class Wizard:\n",
    "    def __init__(self, name):\n",
    "        if not name:\n",
    "            raise ValueError(\"Missing Name\")\n",
    "        self.name = name\n",
    "\n",
    "# Create a Subclass (Subclass 1)\n",
    "class Student(Wizard):\n",
    "    def __init__(self, name, house):\n",
    "        # Call the Super Class and its Initialization Code\n",
    "        super().__init__(name)\n",
    "        self.house = house\n",
    "\n",
    "# Create a Subclass (Subclass 2)\n",
    "class Professor(Wizard):\n",
    "    def __init__(self, name, subject):\n",
    "        # Call the Super Class and its Initialization Code\n",
    "        super().__init__(name)\n",
    "        self.subject = subject\n",
    "\n",
    "\n",
    "\n",
    "## Example Variables Using New Inheritance ##\n",
    "wizard = Wizard(\"Gabriel\")\n",
    "student = Student(\"Colleen\", \"Neurology\")\n",
    "professor = Professor(\"Musher\", \"Feet Enthusiasm\")"
   ]
  },
  {
   "attachments": {},
   "cell_type": "markdown",
   "metadata": {},
   "source": [
    "### Operator Overloading"
   ]
  },
  {
   "cell_type": "code",
   "execution_count": 20,
   "metadata": {},
   "outputs": [
    {
     "name": "stdout",
     "output_type": "stream",
     "text": [
      "This account currently has:\n",
      "100 galleons\n",
      "50 sickles\n",
      "25 knuts\n",
      "\n",
      "This account currently has:\n",
      "25 galleons\n",
      "50 sickles\n",
      "100 knuts\n",
      "\n",
      "This account currently has:\n",
      "125 galleons\n",
      "100 sickles\n",
      "125 knuts\n",
      "\n"
     ]
    }
   ],
   "source": [
    "class Vault:\n",
    "    # Initialize the Instance Variables\n",
    "    def __init__(self, galleons = 0, sickles = 0, knuts = 0):\n",
    "        self.galleons = galleons\n",
    "        self.sickles = sickles\n",
    "        self.knuts = knuts\n",
    "    \n",
    "    # Allow the Class to be Printed\n",
    "    def __str__(self):\n",
    "        return f\"This account currently has:\\n{self.galleons} galleons\\n{self.sickles} sickles\\n{self.knuts} knuts\\n\"\n",
    "    \n",
    "    # Allow the Class to be Added Together (Operator Overloading)\n",
    "    def __add__(self, other):\n",
    "        galleons = self.galleons + other.galleons\n",
    "        sickles = self.sickles + other.sickles\n",
    "        knuts = self.knuts + other.knuts\n",
    "        return Vault(galleons, sickles, knuts)\n",
    "    \n",
    "\n",
    "\n",
    "\n",
    "\n",
    "\n",
    "\n",
    "accountOne = Vault(100, 50, 25)\n",
    "accountTwo = Vault(25, 50, 100)\n",
    "\n",
    "total = accountOne + accountTwo\n",
    "\n",
    "print(accountOne)\n",
    "print(accountTwo)\n",
    "print(total)"
   ]
  },
  {
   "attachments": {},
   "cell_type": "markdown",
   "metadata": {},
   "source": [
    "### You can use a \"set\" to create a list without repeating values. Here is how to use a set:"
   ]
  },
  {
   "cell_type": "code",
   "execution_count": 26,
   "metadata": {},
   "outputs": [
    {
     "name": "stdout",
     "output_type": "stream",
     "text": [
      "Neurology\n",
      "Neurosurgery\n",
      "Orthopedic Surgery\n"
     ]
    }
   ],
   "source": [
    "## Code Made with an Empty List that Must Fix Potential Repeats\n",
    "\n",
    "medicalStudents = [\n",
    "    {\"name\":\"Gabriel\", \"specialty\":\"Neurosurgery\"}, \n",
    "    {\"name\":\"Adin\", \"specialty\":\"Neurosurgery\"},\n",
    "    {\"name\":\"Colleen\", \"specialty\":\"Neurology\"},\n",
    "    {\"name\":\"Nihar\", \"specialty\":\"Orthopedic Surgery\"},\n",
    "    {\"name\":\"Sam\", \"specialty\":\"Orthopedic Surgery\"},\n",
    "]\n",
    "# Create an Empty List\n",
    "specialties = []\n",
    "\n",
    "# Create For Loop Checking for Duplicates\n",
    "for student in medicalStudents:\n",
    "    # Refer to Key Value in Newly Defined \"Student\" Rather than \"medicalStudents\"\n",
    "    if student[\"specialty\"] not in specialties:\n",
    "        specialties.append(student[\"specialty\"])\n",
    "\n",
    "\n",
    "# Print\n",
    "for specialty in sorted(specialties):\n",
    "    print(specialty)\n"
   ]
  },
  {
   "cell_type": "code",
   "execution_count": 27,
   "metadata": {},
   "outputs": [
    {
     "name": "stdout",
     "output_type": "stream",
     "text": [
      "Neurology\n",
      "Neurosurgery\n",
      "Orthopedic Surgery\n"
     ]
    }
   ],
   "source": [
    "# Code Made with a Set that Doesn't Have to Worry About Repeats\n",
    "medicalStudents = [\n",
    "    {\"name\":\"Gabriel\", \"specialty\":\"Neurosurgery\"}, \n",
    "    {\"name\":\"Adin\", \"specialty\":\"Neurosurgery\"},\n",
    "    {\"name\":\"Colleen\", \"specialty\":\"Neurology\"},\n",
    "    {\"name\":\"Nihar\", \"specialty\":\"Orthopedic Surgery\"},\n",
    "    {\"name\":\"Sam\", \"specialty\":\"Orthopedic Surgery\"},\n",
    "]\n",
    "\n",
    "# Create a Set\n",
    "specialties = set()\n",
    "\n",
    "# Add to Set\n",
    "for student in medicalStudents:\n",
    "        specialties.add(student[\"specialty\"])\n",
    "\n",
    "# Print\n",
    "for specialty in sorted(specialties):\n",
    "    print(specialty)"
   ]
  },
  {
   "attachments": {},
   "cell_type": "markdown",
   "metadata": {},
   "source": [
    "### You can use \"global\" to create a global variable to WRITE INTO within functions. \n",
    "### Normally, you can read global variables within any function, but you CANNOT change or alter them. \n",
    "### Here is how to change a global variable within functions:"
   ]
  },
  {
   "cell_type": "code",
   "execution_count": 30,
   "metadata": {},
   "outputs": [
    {
     "name": "stdout",
     "output_type": "stream",
     "text": [
      "Balance: 375\n"
     ]
    }
   ],
   "source": [
    "balance = 0 \n",
    "\n",
    "def main():\n",
    "    deposit(500)\n",
    "    withdraw(125)\n",
    "    print(\"Balance:\", balance)\n",
    "\n",
    "def deposit(n):\n",
    "    global balance\n",
    "    balance = balance + n\n",
    "\n",
    "def withdraw(n):\n",
    "    global balance\n",
    "    balance = balance - n\n",
    "\n",
    "if __name__ == \"__main__\":\n",
    "    main()"
   ]
  },
  {
   "attachments": {},
   "cell_type": "markdown",
   "metadata": {},
   "source": [
    "## Argument Parser for Command Line Arguements"
   ]
  },
  {
   "cell_type": "code",
   "execution_count": 31,
   "metadata": {},
   "outputs": [
    {
     "name": "stderr",
     "output_type": "stream",
     "text": [
      "usage: ipykernel_launcher.py [-h] [-n N]\n",
      "ipykernel_launcher.py: error: unrecognized arguments: --ip=127.0.0.1 --stdin=9003 --control=9001 --hb=9000 --Session.signature_scheme=\"hmac-sha256\" --Session.key=b\"6d857a47-a301-46c7-8351-92b0422184ae\" --shell=9002 --transport=\"tcp\" --iopub=9004 --f=/Users/gabrielreyes/Library/Jupyter/runtime/kernel-v2-7574Tk69qK8DBZCc.json\n"
     ]
    },
    {
     "ename": "SystemExit",
     "evalue": "2",
     "output_type": "error",
     "traceback": [
      "An exception has occurred, use %tb to see the full traceback.\n",
      "\u001b[0;31mSystemExit\u001b[0m\u001b[0;31m:\u001b[0m 2\n"
     ]
    },
    {
     "name": "stderr",
     "output_type": "stream",
     "text": [
      "/Users/gabrielreyes/opt/anaconda3/lib/python3.9/site-packages/IPython/core/interactiveshell.py:3465: UserWarning: To exit: use 'exit', 'quit', or Ctrl-D.\n",
      "  warn(\"To exit: use 'exit', 'quit', or Ctrl-D.\", stacklevel=1)\n"
     ]
    }
   ],
   "source": [
    "import argparse\n",
    "\n",
    "# A Constructor for the Argparse Class with an ArgumentParser method\n",
    "parser = argparse.ArgumentParser()\n",
    "\n",
    "parser.add_argument(\"-n\")\n",
    "\n",
    "args = parser.parse_args()\n",
    "\n",
    "for _ in range(int(args.n)):\n",
    "    print(\"meow\")"
   ]
  },
  {
   "cell_type": "code",
   "execution_count": null,
   "metadata": {},
   "outputs": [],
   "source": []
  }
 ],
 "metadata": {
  "kernelspec": {
   "display_name": "base",
   "language": "python",
   "name": "python3"
  },
  "language_info": {
   "codemirror_mode": {
    "name": "ipython",
    "version": 3
   },
   "file_extension": ".py",
   "mimetype": "text/x-python",
   "name": "python",
   "nbconvert_exporter": "python",
   "pygments_lexer": "ipython3",
   "version": "3.9.13"
  },
  "orig_nbformat": 4
 },
 "nbformat": 4,
 "nbformat_minor": 2
}
